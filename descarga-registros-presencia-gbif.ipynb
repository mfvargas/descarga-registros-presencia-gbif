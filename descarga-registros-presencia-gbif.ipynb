{
 "cells": [
  {
   "cell_type": "markdown",
   "metadata": {},
   "source": [
    "# Descarga de registros de presencia de especies de GBIF"
   ]
  },
  {
   "cell_type": "markdown",
   "metadata": {},
   "source": [
    "Este [Jupyter Notebook](https://jupyter.org/), desarrollado en el lenguaje de programación [Python](https://www.python.org/), genera un archivo para descargar del [portal de GBIF](https://www.gbif.org/) con los registros de presencia de las especies contenidas en un archivo CSV."
   ]
  },
  {
   "cell_type": "markdown",
   "metadata": {},
   "source": [
    "**Entradas**\n",
    "- Un archivo CSV con nombres científicos de especies.\n",
    "- Las especificadas en la sección de **Constantes**.\n",
    "\n",
    "**Procesamiento**\n",
    "- Se obtienen las llaves (*keys*) de las especies en el [API de GBIF](https://www.gbif.org/developer/summary).\n",
    "- En caso de ser necesario, se filtran las llaves (ej. se conservan solo las de nombres que tengan coincidencia exacta o solo las de nombres aceptados).\n",
    "- Con base en la lista de llaves, se construye una consulta para el [portal de GBIF](https://www.gbif.org/).\n",
    "- El archivo CSV retornado por el portal se descarga y se renombra con el valor de la constante OCCURRENCES_CSV.\n",
    "- Se recorre el archivo CSV para generar las salidas que se describen seguidamente.\n",
    "\n",
    "**Salidas**\n",
    "- Un archivo con los registros de presencia de todas las especies para descargar del portal de GBIF.\n",
    "- Para cada especie en la lista de entrada, se genera:\n",
    "  - Un archivo CSV con los registros de presencia."
   ]
  },
  {
   "cell_type": "markdown",
   "metadata": {},
   "source": [
    "**Bibliotecas de Python**"
   ]
  },
  {
   "cell_type": "code",
   "execution_count": null,
   "metadata": {},
   "outputs": [],
   "source": [
    "import pandas as pd\n",
    "\n",
    "# El siguiente archivo debe estar en el mismo directorio que este notebook\n",
    "from functions_query_from_species_list import *"
   ]
  },
  {
   "cell_type": "markdown",
   "metadata": {},
   "source": [
    "**Constantes**"
   ]
  },
  {
   "cell_type": "code",
   "execution_count": null,
   "metadata": {},
   "outputs": [],
   "source": [
    "# Credenciales para el API de GBIF\n",
    "GBIF_USER_NAME = \"<USUARIO>\"\n",
    "GBIF_PASSWORD = \"<CLAVE>\"\n",
    "GBIF_NOTIFICATION_ADDRESSES = \"email\"\n",
    "GBIF_DOWNLOAD_FORMAT = \"SIMPLE_CSV\"\n",
    "\n",
    "# Directorio de entrada\n",
    "INPUT_DIR = \"C:/Users/mfvargas/descarga-registros-presencia-gbif/\"\n",
    "\n",
    "# Archivo CSV de entrada con lista de especies a procesar\n",
    "INPUT_CHECKLIST = INPUT_DIR + \"Anexo 1. Listado de especies gradiente .csv\"\n",
    "# Columna con el nombre científico de la especie\n",
    "INPUT_SCINAME_COL = \"NOMBRE_COMPLETO\"\n",
    "\n",
    "# Directorio de salida\n",
    "OUTPUT_DIR = \"C:/Users/mfvargas/descarga-registros-presencia-gbif/salidas/\"\n",
    "\n",
    "# Archivo CSV con especies del archivo de entrada que se procesan\n",
    "INPUT_CHECKLIST_PROCESSED_SPECIES = OUTPUT_DIR + \"especies-procesadas.csv\"\n",
    "\n",
    "# Archivo CSV con especies del archivo de entrada que no se procesan\n",
    "INPUT_CHECKLIST_NON_PROCESSED_SPECIES = OUTPUT_DIR + \"especies-no-procesadas.csv\"\n",
    "\n",
    "# Archivo CSV de salida con los registros de presencia de todas las especies\n",
    "OCCURRENCES_CSV = INPUT_DIR + \"registros-presencia-todos.csv\"\n",
    "\n",
    "# Número máximo de registros a desplegar en los dataframes de Pandas\n",
    "pd.options.display.max_rows = 15"
   ]
  },
  {
   "cell_type": "markdown",
   "metadata": {},
   "source": [
    "## Carga de datos"
   ]
  },
  {
   "cell_type": "code",
   "execution_count": null,
   "metadata": {},
   "outputs": [],
   "source": [
    "# Carga del archivo CSV de entrada en un dataframe de Pandas\n",
    "input_species_df = pd.read_csv(INPUT_CHECKLIST, encoding='utf_8')\n",
    "\n",
    "input_species_df"
   ]
  },
  {
   "cell_type": "markdown",
   "metadata": {},
   "source": [
    "Se consulta el API de GBIF para obtener las llaves (*keys*) de las especies"
   ]
  },
  {
   "cell_type": "code",
   "execution_count": null,
   "metadata": {},
   "outputs": [],
   "source": [
    "# Se obtienen las llaves de las especies a través del API de GBIF\n",
    "gbif_species_df = match_species(input_species_df, INPUT_SCINAME_COL)\n",
    "\n",
    "gbif_species_df"
   ]
  },
  {
   "cell_type": "code",
   "execution_count": null,
   "metadata": {},
   "outputs": [],
   "source": [
    "# Se construye una lista de nombres que van a procesarse\n",
    "gbif_species_processed_df = gbif_species_df.loc[(gbif_species_df[\"matchType\"]==\"EXACT\")]\n",
    "gbif_species_processed_df.to_csv(INPUT_CHECKLIST_PROCESSED_SPECIES)\n",
    "\n",
    "gbif_species_processed_df"
   ]
  },
  {
   "cell_type": "code",
   "execution_count": null,
   "metadata": {},
   "outputs": [],
   "source": [
    "# Se construye una lista de nombres que no van a procesarse\n",
    "gbif_species_non_processed_df = gbif_species_df.loc[~((gbif_species_df[\"matchType\"]==\"EXACT\"))]\n",
    "gbif_species_non_processed_df.to_csv(INPUT_CHECKLIST_NON_PROCESSED_SPECIES)\n",
    "\n",
    "gbif_species_non_processed_df"
   ]
  },
  {
   "cell_type": "code",
   "execution_count": null,
   "metadata": {},
   "outputs": [],
   "source": [
    "# Se separa la lista de llaves\n",
    "key_list = gbif_species_processed_df.usageKey.tolist()\n",
    "\n",
    "key_list"
   ]
  },
  {
   "cell_type": "markdown",
   "metadata": {},
   "source": [
    "Se construye una consulta para descarga en el portal de GBIF"
   ]
  },
  {
   "cell_type": "code",
   "execution_count": null,
   "metadata": {},
   "outputs": [],
   "source": [
    "# Se construye una consulta para descarga en el portal de GBIF\n",
    "download_query = {}\n",
    "download_query[\"creator\"] = GBIF_USER_NAME\n",
    "download_query[\"notificationAddresses\"] = [GBIF_NOTIFICATION_ADDRESSES]\n",
    "download_query[\"sendNotification\"] = True\n",
    "download_query[\"format\"] = GBIF_DOWNLOAD_FORMAT\n",
    "download_query[\"predicate\"] =   {\"type\":\"and\", \"predicates\": \n",
    "                                 [\n",
    "                                    {\"type\":\"equals\", \"key\":\"HAS_COORDINATE\",       \"value\":\"true\"},\n",
    "                                    {\"type\":\"equals\", \"key\":\"HAS_GEOSPATIAL_ISSUE\", \"value\":\"false\"}, \n",
    "                                    {\"type\":\"in\",     \"key\": \"TAXON_KEY\",           \"values\":key_list},\n",
    "                                    {\n",
    "                                      \"type\": \"or\",\n",
    "                                      \"predicates\": [\n",
    "                                        {\n",
    "                                          \"type\": \"equals\",\n",
    "                                          \"key\": \"COUNTRY\",\n",
    "                                          \"value\": \"PA\"\n",
    "                                        },\n",
    "                                        {\n",
    "                                          \"type\": \"equals\",\n",
    "                                          \"key\": \"COUNTRY\",\n",
    "                                          \"value\": \"CR\"\n",
    "                                        },\n",
    "                                        {\n",
    "                                          \"type\": \"equals\",\n",
    "                                          \"key\": \"COUNTRY\",\n",
    "                                          \"value\": \"NI\"\n",
    "                                        },\n",
    "                                        {\n",
    "                                          \"type\": \"equals\",\n",
    "                                          \"key\": \"COUNTRY\",\n",
    "                                          \"value\": \"HN\"\n",
    "                                        },\n",
    "                                        {\n",
    "                                          \"type\": \"equals\",\n",
    "                                          \"key\": \"COUNTRY\",\n",
    "                                          \"value\": \"SV\"\n",
    "                                        },\n",
    "                                        {\n",
    "                                          \"type\": \"equals\",\n",
    "                                          \"key\": \"COUNTRY\",\n",
    "                                          \"value\": \"GT\"\n",
    "                                        },\n",
    "                                        {\n",
    "                                          \"type\": \"equals\",\n",
    "                                          \"key\": \"COUNTRY\",\n",
    "                                          \"value\": \"BZ\"\n",
    "                                        },\n",
    "                                        {\n",
    "                                          \"type\": \"equals\",\n",
    "                                          \"key\": \"COUNTRY\",\n",
    "                                          \"value\": \"MX\"\n",
    "                                        }\n",
    "                                      ]\n",
    "                                    }                                     \n",
    "                                 ]\n",
    "                                }\n",
    "\n",
    "download_query"
   ]
  },
  {
   "cell_type": "code",
   "execution_count": null,
   "metadata": {},
   "outputs": [],
   "source": [
    "# Consulta para el API de GBIF\n",
    "create_download_given_query(GBIF_USER_NAME, GBIF_PASSWORD, download_query)\n",
    "\n",
    "# Respuesta esperada:\n",
    "# ok\n",
    "# <Response [201]>"
   ]
  },
  {
   "cell_type": "markdown",
   "metadata": {},
   "source": [
    "La consulta al API genera un archivo ZIP para descarga en\n",
    "[https://www.gbif.org/user/download](https://www.gbif.org/user/download)\n",
    "\n",
    "**ESTE ARCHIVO ZIP DEBE DESCOMPRIMIRSE Y RENOMBRARSE CON EL NOMBRE ESPECIFICADO EN LA CONSTANTE \"OCCURRENCES_CSV\"**"
   ]
  },
  {
   "cell_type": "code",
   "execution_count": null,
   "metadata": {},
   "outputs": [],
   "source": [
    "occurrences_df = pd.read_csv(OCCURRENCES_CSV, sep='\\t')\n",
    "\n",
    "occurrences_df"
   ]
  },
  {
   "cell_type": "code",
   "execution_count": null,
   "metadata": {},
   "outputs": [],
   "source": [
    "# ==================== RECORRIDO DE LA LISTA DE ESPECIES ====================\n",
    "for index, row in gbif_species_processed_df.iterrows():\n",
    "    species_input = row[\"inputName\"]\n",
    "    species_gbif = row[\"species\"]\n",
    "    print(species_gbif)\n",
    "\n",
    "    current_taxon_df = occurrences_df[occurrences_df['species'] == species_gbif]    \n",
    "    if current_taxon_df.size > 0:   \n",
    "        # Creación de archivo de registros de presencia de la especie en archivo CSV\n",
    "        current_taxon_df = current_taxon_df[['basisOfRecord', 'species', 'catalogNumber', 'recordNumber', 'decimalLatitude', 'decimalLongitude', 'locality', 'year', 'recordedBy']]\n",
    "        current_taxon_df.to_csv(OUTPUT_DIR + \"registros-presencia-\" + species_input.replace(\" \", \"_\") + \".csv\")"
   ]
  },
  {
   "cell_type": "code",
   "execution_count": null,
   "metadata": {},
   "outputs": [],
   "source": []
  }
 ],
 "metadata": {
  "kernelspec": {
   "display_name": "Python 3",
   "language": "python",
   "name": "python3"
  },
  "language_info": {
   "codemirror_mode": {
    "name": "ipython",
    "version": 3
   },
   "file_extension": ".py",
   "mimetype": "text/x-python",
   "name": "python",
   "nbconvert_exporter": "python",
   "pygments_lexer": "ipython3",
   "version": "3.7.3"
  }
 },
 "nbformat": 4,
 "nbformat_minor": 2
}
